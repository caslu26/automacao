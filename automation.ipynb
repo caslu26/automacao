{
 "cells": [
  {
   "cell_type": "code",
   "execution_count": 1,
   "metadata": {},
   "outputs": [],
   "source": [
    "# Bibliotecas necessarias \n",
    "from selenium import webdriver\n",
    "from login import *\n",
    "from selenium.webdriver.common.by import By\n",
    "from selenium.webdriver.support.ui import WebDriverWait\n",
    "from selenium.webdriver.support import expected_conditions as EC\n",
    "from selenium.common.exceptions import NoSuchElementException\n",
    "from selenium.webdriver.common.keys import Keys\n",
    "import time"
   ]
  },
  {
   "cell_type": "code",
   "execution_count": 2,
   "metadata": {},
   "outputs": [],
   "source": [
    "driver = webdriver.Chrome()\n",
    "driver.get(\"https://outlook.live.com/mail/0/\")\n",
    "\n",
    "input_email = driver.find_element(By.ID,\"mectrl_headerPicture\").click()\n",
    "input_email = driver.find_element(By.ID,\"i0116\")\n",
    "input_email.send_keys(email)\n",
    "input_email.send_keys(Keys.RETURN)\n",
    "\n",
    "\n",
    "input_senha = driver.find_element(By.ID,\"i0118\")\n",
    "input_senha.send_keys(senha)\n",
    "input_senha.send_keys(Keys.RETURN)\n",
    "time.sleep(2)\n",
    "\n",
    "enter = driver.find_element(By.ID,\"idSIButton9\").click()\n",
    "time.sleep(2)\n",
    "botao_sim = driver.find_element(By.ID, \"idSIButton9\").click()\n",
    "\n",
    "\n",
    "\n"
   ]
  }
 ],
 "metadata": {
  "kernelspec": {
   "display_name": "Python 3",
   "language": "python",
   "name": "python3"
  },
  "language_info": {
   "codemirror_mode": {
    "name": "ipython",
    "version": 3
   },
   "file_extension": ".py",
   "mimetype": "text/x-python",
   "name": "python",
   "nbconvert_exporter": "python",
   "pygments_lexer": "ipython3",
   "version": "3.11.3"
  },
  "orig_nbformat": 4
 },
 "nbformat": 4,
 "nbformat_minor": 2
}
